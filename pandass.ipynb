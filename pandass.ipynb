{
 "cells": [
  {
   "cell_type": "code",
   "execution_count": 2,
   "id": "609c51ef-9ceb-45c9-ba07-41623fcc8aaa",
   "metadata": {},
   "outputs": [],
   "source": [
    "import pandas as pd\n",
    "import numpy as np\n",
    "import sys\n"
   ]
  },
  {
   "cell_type": "code",
   "execution_count": 14,
   "id": "efa9c45e-d7a8-4b63-8c97-eccd37e7821e",
   "metadata": {},
   "outputs": [],
   "source": [
    "lst=[\n",
    "[10,2,3,4,5,6,7,8,9,7,6,4,3,22],\n",
    "[11,2,3,4,5,6,7,8,9,7,6,4,3,22],\n",
    "    [12,2,3,4,5,6,7,8,9,7,6,4,3,22],\n",
    "[13,2,3,4,5,6,7,8,9,7,6,4,3,22],\n",
    "]"
   ]
  },
  {
   "cell_type": "code",
   "execution_count": 58,
   "id": "cf48d7dd-ed58-41d3-88d3-ebcba964b02b",
   "metadata": {},
   "outputs": [],
   "source": [
    "df1=pd.Series(lst,index=[1,2,3,4])"
   ]
  },
  {
   "cell_type": "code",
   "execution_count": 32,
   "id": "dcd78927-8185-4d0e-abd7-c67ad1083eef",
   "metadata": {},
   "outputs": [
    {
     "data": {
      "text/plain": [
       "1    [10, 2, 3, 4, 5, 6, 7, 8, 9, 7, 6, 4, 3, 22]\n",
       "2    [11, 2, 3, 4, 5, 6, 7, 8, 9, 7, 6, 4, 3, 22]\n",
       "3    [12, 2, 3, 4, 5, 6, 7, 8, 9, 7, 6, 4, 3, 22]\n",
       "4    [13, 2, 3, 4, 5, 6, 7, 8, 9, 7, 6, 4, 3, 22]\n",
       "dtype: object"
      ]
     },
     "execution_count": 32,
     "metadata": {},
     "output_type": "execute_result"
    }
   ],
   "source": [
    "df1"
   ]
  },
  {
   "cell_type": "code",
   "execution_count": 33,
   "id": "6dc62f28-5ddf-495f-af32-45915758aa09",
   "metadata": {},
   "outputs": [],
   "source": [
    "df1.name='example of series data'"
   ]
  },
  {
   "cell_type": "code",
   "execution_count": 34,
   "id": "206a34c1-c472-4c91-9769-e123f35671f9",
   "metadata": {},
   "outputs": [
    {
     "data": {
      "text/plain": [
       "1    [10, 2, 3, 4, 5, 6, 7, 8, 9, 7, 6, 4, 3, 22]\n",
       "2    [11, 2, 3, 4, 5, 6, 7, 8, 9, 7, 6, 4, 3, 22]\n",
       "3    [12, 2, 3, 4, 5, 6, 7, 8, 9, 7, 6, 4, 3, 22]\n",
       "4    [13, 2, 3, 4, 5, 6, 7, 8, 9, 7, 6, 4, 3, 22]\n",
       "Name: example of series data, dtype: object"
      ]
     },
     "execution_count": 34,
     "metadata": {},
     "output_type": "execute_result"
    }
   ],
   "source": [
    "df1"
   ]
  },
  {
   "cell_type": "code",
   "execution_count": 35,
   "id": "b4031055-3270-4d39-844c-e5a1a5010f78",
   "metadata": {},
   "outputs": [
    {
     "data": {
      "text/plain": [
       "[10, 2, 3, 4, 5, 6, 7, 8, 9, 7, 6, 4, 3, 22]"
      ]
     },
     "execution_count": 35,
     "metadata": {},
     "output_type": "execute_result"
    }
   ],
   "source": [
    "df1[1]"
   ]
  },
  {
   "cell_type": "code",
   "execution_count": 59,
   "id": "eb7039fd-e215-4f66-822b-3beba81f3423",
   "metadata": {},
   "outputs": [
    {
     "data": {
      "text/plain": [
       "1    [10, 2, 3, 4, 5, 6, 7, 8, 9, 7, 6, 4, 3, 22]\n",
       "4    [13, 2, 3, 4, 5, 6, 7, 8, 9, 7, 6, 4, 3, 22]\n",
       "dtype: object"
      ]
     },
     "execution_count": 59,
     "metadata": {},
     "output_type": "execute_result"
    }
   ],
   "source": [
    "df1[[1,4]]"
   ]
  },
  {
   "cell_type": "code",
   "execution_count": 60,
   "id": "00802f6a-d93c-4660-8a09-53fe8fb77778",
   "metadata": {},
   "outputs": [],
   "source": [
    "df2=df1.iloc[-1]=[10,10,10]"
   ]
  },
  {
   "cell_type": "code",
   "execution_count": 62,
   "id": "b51283c6-41e1-4ad4-a336-d865fc3f1a09",
   "metadata": {},
   "outputs": [
    {
     "data": {
      "text/plain": [
       "[10, 10, 10]"
      ]
     },
     "execution_count": 62,
     "metadata": {},
     "output_type": "execute_result"
    }
   ],
   "source": [
    "df2"
   ]
  },
  {
   "cell_type": "code",
   "execution_count": 79,
   "id": "19e9f8c9-3a35-4da8-89a5-0f5172362297",
   "metadata": {},
   "outputs": [],
   "source": [
    "dictionary={\n",
    "'population':[10,20,30,40,50,60,70,80,90],\n",
    "    'GDP':[1,2,3,4,5,6,7,8,9],\n",
    "    'LAN':['TR' ,'EN','AR','CIN','TR','EN','TR','TR','TR']\n",
    "}"
   ]
  },
  {
   "cell_type": "code",
   "execution_count": 80,
   "id": "301557cc-a6b4-4283-ab5b-591a7a338f80",
   "metadata": {},
   "outputs": [],
   "source": [
    "df3=pd.DataFrame(dictionary,index=None)"
   ]
  },
  {
   "cell_type": "code",
   "execution_count": 81,
   "id": "e507bdc8-fb9f-41a5-bc87-c5cea619f5df",
   "metadata": {},
   "outputs": [],
   "source": [
    "df3.name=\"my dataframe\""
   ]
  },
  {
   "cell_type": "code",
   "execution_count": 82,
   "id": "8b045335-89ea-47fb-8026-4aa966e80d0e",
   "metadata": {},
   "outputs": [
    {
     "data": {
      "text/plain": [
       "(9, 3)"
      ]
     },
     "execution_count": 82,
     "metadata": {},
     "output_type": "execute_result"
    }
   ],
   "source": [
    "df3.shape"
   ]
  },
  {
   "cell_type": "code",
   "execution_count": 83,
   "id": "20be3f43-a63f-4b2c-9da0-f11000dc8f80",
   "metadata": {},
   "outputs": [
    {
     "data": {
      "text/html": [
       "<div>\n",
       "<style scoped>\n",
       "    .dataframe tbody tr th:only-of-type {\n",
       "        vertical-align: middle;\n",
       "    }\n",
       "\n",
       "    .dataframe tbody tr th {\n",
       "        vertical-align: top;\n",
       "    }\n",
       "\n",
       "    .dataframe thead th {\n",
       "        text-align: right;\n",
       "    }\n",
       "</style>\n",
       "<table border=\"1\" class=\"dataframe\">\n",
       "  <thead>\n",
       "    <tr style=\"text-align: right;\">\n",
       "      <th></th>\n",
       "      <th>population</th>\n",
       "      <th>GDP</th>\n",
       "      <th>LAN</th>\n",
       "    </tr>\n",
       "  </thead>\n",
       "  <tbody>\n",
       "    <tr>\n",
       "      <th>0</th>\n",
       "      <td>10</td>\n",
       "      <td>1</td>\n",
       "      <td>TR</td>\n",
       "    </tr>\n",
       "    <tr>\n",
       "      <th>1</th>\n",
       "      <td>20</td>\n",
       "      <td>2</td>\n",
       "      <td>EN</td>\n",
       "    </tr>\n",
       "    <tr>\n",
       "      <th>2</th>\n",
       "      <td>30</td>\n",
       "      <td>3</td>\n",
       "      <td>AR</td>\n",
       "    </tr>\n",
       "    <tr>\n",
       "      <th>3</th>\n",
       "      <td>40</td>\n",
       "      <td>4</td>\n",
       "      <td>CIN</td>\n",
       "    </tr>\n",
       "    <tr>\n",
       "      <th>4</th>\n",
       "      <td>50</td>\n",
       "      <td>5</td>\n",
       "      <td>TR</td>\n",
       "    </tr>\n",
       "    <tr>\n",
       "      <th>5</th>\n",
       "      <td>60</td>\n",
       "      <td>6</td>\n",
       "      <td>EN</td>\n",
       "    </tr>\n",
       "    <tr>\n",
       "      <th>6</th>\n",
       "      <td>70</td>\n",
       "      <td>7</td>\n",
       "      <td>TR</td>\n",
       "    </tr>\n",
       "    <tr>\n",
       "      <th>7</th>\n",
       "      <td>80</td>\n",
       "      <td>8</td>\n",
       "      <td>TR</td>\n",
       "    </tr>\n",
       "    <tr>\n",
       "      <th>8</th>\n",
       "      <td>90</td>\n",
       "      <td>9</td>\n",
       "      <td>TR</td>\n",
       "    </tr>\n",
       "  </tbody>\n",
       "</table>\n",
       "</div>"
      ],
      "text/plain": [
       "   population  GDP  LAN\n",
       "0          10    1   TR\n",
       "1          20    2   EN\n",
       "2          30    3   AR\n",
       "3          40    4  CIN\n",
       "4          50    5   TR\n",
       "5          60    6   EN\n",
       "6          70    7   TR\n",
       "7          80    8   TR\n",
       "8          90    9   TR"
      ]
     },
     "execution_count": 83,
     "metadata": {},
     "output_type": "execute_result"
    }
   ],
   "source": [
    "df3\n"
   ]
  },
  {
   "cell_type": "code",
   "execution_count": 84,
   "id": "ce52cd78-fdc4-4291-849e-8521689f67d9",
   "metadata": {},
   "outputs": [
    {
     "data": {
      "text/plain": [
       "27"
      ]
     },
     "execution_count": 84,
     "metadata": {},
     "output_type": "execute_result"
    }
   ],
   "source": [
    "df3.size"
   ]
  },
  {
   "cell_type": "markdown",
   "id": "b61b4a9c-a1d2-423a-9149-464809fafa19",
   "metadata": {
    "jp-MarkdownHeadingCollapsed": true,
    "tags": []
   },
   "source": []
  },
  {
   "cell_type": "code",
   "execution_count": 85,
   "id": "726b2075-3b71-40bb-b55c-16089a418223",
   "metadata": {},
   "outputs": [
    {
     "data": {
      "text/plain": [
       "RangeIndex(start=0, stop=9, step=1)"
      ]
     },
     "execution_count": 85,
     "metadata": {},
     "output_type": "execute_result"
    }
   ],
   "source": [
    "df3.index"
   ]
  },
  {
   "cell_type": "code",
   "execution_count": 86,
   "id": "5f63d9b5-90f7-4808-86e9-cfc2fb0332b2",
   "metadata": {},
   "outputs": [
    {
     "data": {
      "text/plain": [
       "Index(['population', 'GDP', 'LAN'], dtype='object')"
      ]
     },
     "execution_count": 86,
     "metadata": {},
     "output_type": "execute_result"
    }
   ],
   "source": [
    "df3.columns"
   ]
  },
  {
   "cell_type": "code",
   "execution_count": 87,
   "id": "b7d083fc-24a5-4177-93a0-30db4132a0cd",
   "metadata": {},
   "outputs": [
    {
     "name": "stdout",
     "output_type": "stream",
     "text": [
      "<class 'pandas.core.frame.DataFrame'>\n",
      "RangeIndex: 9 entries, 0 to 8\n",
      "Data columns (total 3 columns):\n",
      " #   Column      Non-Null Count  Dtype \n",
      "---  ------      --------------  ----- \n",
      " 0   population  9 non-null      int64 \n",
      " 1   GDP         9 non-null      int64 \n",
      " 2   LAN         9 non-null      object\n",
      "dtypes: int64(2), object(1)\n",
      "memory usage: 344.0+ bytes\n"
     ]
    }
   ],
   "source": [
    "df3.info()"
   ]
  },
  {
   "cell_type": "code",
   "execution_count": 90,
   "id": "f1562c3a-38a1-43b9-9cdc-e2d9e651f2d3",
   "metadata": {},
   "outputs": [
    {
     "data": {
      "text/html": [
       "<div>\n",
       "<style scoped>\n",
       "    .dataframe tbody tr th:only-of-type {\n",
       "        vertical-align: middle;\n",
       "    }\n",
       "\n",
       "    .dataframe tbody tr th {\n",
       "        vertical-align: top;\n",
       "    }\n",
       "\n",
       "    .dataframe thead th {\n",
       "        text-align: right;\n",
       "    }\n",
       "</style>\n",
       "<table border=\"1\" class=\"dataframe\">\n",
       "  <thead>\n",
       "    <tr style=\"text-align: right;\">\n",
       "      <th></th>\n",
       "      <th>population</th>\n",
       "      <th>GDP</th>\n",
       "    </tr>\n",
       "  </thead>\n",
       "  <tbody>\n",
       "    <tr>\n",
       "      <th>count</th>\n",
       "      <td>9.000000</td>\n",
       "      <td>9.000000</td>\n",
       "    </tr>\n",
       "    <tr>\n",
       "      <th>mean</th>\n",
       "      <td>50.000000</td>\n",
       "      <td>5.000000</td>\n",
       "    </tr>\n",
       "    <tr>\n",
       "      <th>std</th>\n",
       "      <td>27.386128</td>\n",
       "      <td>2.738613</td>\n",
       "    </tr>\n",
       "    <tr>\n",
       "      <th>min</th>\n",
       "      <td>10.000000</td>\n",
       "      <td>1.000000</td>\n",
       "    </tr>\n",
       "    <tr>\n",
       "      <th>25%</th>\n",
       "      <td>30.000000</td>\n",
       "      <td>3.000000</td>\n",
       "    </tr>\n",
       "    <tr>\n",
       "      <th>50%</th>\n",
       "      <td>50.000000</td>\n",
       "      <td>5.000000</td>\n",
       "    </tr>\n",
       "    <tr>\n",
       "      <th>75%</th>\n",
       "      <td>70.000000</td>\n",
       "      <td>7.000000</td>\n",
       "    </tr>\n",
       "    <tr>\n",
       "      <th>max</th>\n",
       "      <td>90.000000</td>\n",
       "      <td>9.000000</td>\n",
       "    </tr>\n",
       "  </tbody>\n",
       "</table>\n",
       "</div>"
      ],
      "text/plain": [
       "       population       GDP\n",
       "count    9.000000  9.000000\n",
       "mean    50.000000  5.000000\n",
       "std     27.386128  2.738613\n",
       "min     10.000000  1.000000\n",
       "25%     30.000000  3.000000\n",
       "50%     50.000000  5.000000\n",
       "75%     70.000000  7.000000\n",
       "max     90.000000  9.000000"
      ]
     },
     "execution_count": 90,
     "metadata": {},
     "output_type": "execute_result"
    }
   ],
   "source": [
    "df3.describe()"
   ]
  },
  {
   "cell_type": "code",
   "execution_count": 91,
   "id": "38ebfcec-3325-4a1c-b533-378850070afb",
   "metadata": {},
   "outputs": [
    {
     "data": {
      "text/plain": [
       "<AxesSubplot: >"
      ]
     },
     "execution_count": 91,
     "metadata": {},
     "output_type": "execute_result"
    },
    {
     "data": {
      "image/png": "[encoded data removed]",
      "text/plain": [
       "<Figure size 640x480 with 1 Axes>"
      ]
     },
     "metadata": {},
     "output_type": "display_data"
    }
   ],
   "source": [
    "df3.plot()"
   ]
  },
  {
   "cell_type": "code",
   "execution_count": 93,
   "id": "2134bbdf-5b1b-43c1-98cc-3f39e1e758fa",
   "metadata": {},
   "outputs": [
    {
     "data": {
      "text/plain": [
       "<AxesSubplot: >"
      ]
     },
     "execution_count": 93,
     "metadata": {},
     "output_type": "execute_result"
    },
    {
     "data": {
      "image/png": "[encoded data removed]",
      "text/plain": [
       "<Figure size 640x480 with 1 Axes>"
      ]
     },
     "metadata": {},
     "output_type": "display_data"
    }
   ],
   "source": [
    "df3.GDP.plot()"
   ]
  },
  {
   "cell_type": "code",
   "execution_count": 94,
   "id": "6d3b1c81-4d7c-4408-a598-698cc43ff4eb",
   "metadata": {},
   "outputs": [
    {
     "name": "stderr",
     "output_type": "stream",
     "text": [
      "C:\\Users\\Windows10\\AppData\\Local\\Temp\\ipykernel_16852\\3891983329.py:1: FutureWarning: The default value of numeric_only in DataFrame.mean is deprecated. In a future version, it will default to False. In addition, specifying 'numeric_only=None' is deprecated. Select only valid columns or specify the value of numeric_only to silence this warning.\n",
      "  df3.mean()\n"
     ]
    },
    {
     "data": {
      "text/plain": [
       "population    50.0\n",
       "GDP            5.0\n",
       "dtype: float64"
      ]
     },
     "execution_count": 94,
     "metadata": {},
     "output_type": "execute_result"
    }
   ],
   "source": [
    "df3.mean()"
   ]
  },
  {
   "cell_type": "code",
   "execution_count": 95,
   "id": "47e47c20-308d-4c63-baca-2fbb04adee85",
   "metadata": {},
   "outputs": [
    {
     "data": {
      "text/plain": [
       "population    10\n",
       "GDP            1\n",
       "LAN           AR\n",
       "dtype: object"
      ]
     },
     "execution_count": 95,
     "metadata": {},
     "output_type": "execute_result"
    }
   ],
   "source": [
    "df3.min()"
   ]
  },
  {
   "cell_type": "code",
   "execution_count": 96,
   "id": "333ae777-9206-4fa7-812b-5734dd6342be",
   "metadata": {},
   "outputs": [
    {
     "data": {
      "text/plain": [
       "population    90\n",
       "GDP            9\n",
       "LAN           TR\n",
       "dtype: object"
      ]
     },
     "execution_count": 96,
     "metadata": {},
     "output_type": "execute_result"
    }
   ],
   "source": [
    "df3.max()"
   ]
  },
  {
   "cell_type": "code",
   "execution_count": 108,
   "id": "2b9d4894-27d7-4da1-9bb6-df65b518bad8",
   "metadata": {},
   "outputs": [
    {
     "data": {
      "text/plain": [
       "population    2\n",
       "GDP           2\n",
       "LAN           2\n",
       "dtype: int64"
      ]
     },
     "execution_count": 108,
     "metadata": {},
     "output_type": "execute_result"
    }
   ],
   "source": [
    "df3[df3.LAN=='EN'].count()"
   ]
  },
  {
   "cell_type": "code",
   "execution_count": null,
   "id": "1409237b-012e-418e-a28c-b4effd0f9106",
   "metadata": {},
   "outputs": [],
   "source": []
  }
 ],
 "metadata": {
  "kernelspec": {
   "display_name": "Python 3 (ipykernel)",
   "language": "python",
   "name": "python3"
  },
  "language_info": {
   "codemirror_mode": {
    "name": "ipython",
    "version": 3
   },
   "file_extension": ".py",
   "mimetype": "text/x-python",
   "name": "python",
   "nbconvert_exporter": "python",
   "pygments_lexer": "ipython3",
   "version": "3.10.7"
  }
 },
 "nbformat": 4,
 "nbformat_minor": 5
}
